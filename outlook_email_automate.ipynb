{
 "cells": [
  {
   "cell_type": "code",
   "execution_count": 7,
   "id": "2031bb6d",
   "metadata": {},
   "outputs": [
    {
     "name": "stdout",
     "output_type": "stream",
     "text": [
      "All emails were successfully opened in Outlook!\n"
     ]
    }
   ],
   "source": [
    "import pandas as pd\n",
    "import os\n",
    "import win32com.client as win32\n",
    "\n",
    "# get the current working directory\n",
    "cwd = os.getcwd()\n",
    "\n",
    "# Attachments directory\n",
    "attachments_folder = os.path.join(cwd, \"attachments\")\n",
    "# set the name for the Excel file\n",
    "recipients_list = \"recipients_list.xlsx\"\n",
    "# set the full paths to the excel file\n",
    "recipients_file_path = os.path.join(cwd, recipients_list)\n",
    "\n",
    "# Open Excel file\n",
    "excel_file = pd.ExcelFile(recipients_file_path)\n",
    "\n",
    "# Load distribution_list worksheet into a pandas dataframe\n",
    "df = pd.read_excel(excel_file, 'distribution_list')\n",
    "\n",
    "# Load Email worksheet into a pandas dataframe\n",
    "email_df = pd.read_excel(excel_file, 'Email')\n",
    "\n",
    "# Loop through distribution list\n",
    "for index, row in df.iterrows():\n",
    "    \n",
    "    # Load email body and subject from Email worksheet\n",
    "    email_body = email_df.iloc[0][1]\n",
    "    email_subject = email_df.iloc[0][0]\n",
    "\n",
    "    # Replace {NAME} placeholder in the email body\n",
    "    email_body = email_body.replace('{NAME}', row['Name'])\n",
    "    \n",
    "    # Replace {ATTACHMENT} placeholder in the email body if there is an attachment\n",
    "    if not pd.isna(row['Attachment']):\n",
    "        email_body = email_body.replace('{ATTACHMENT}', row['Attachment'])\n",
    "    else:\n",
    "        email_body = email_body.replace('{ATTACHMENT}', \"\")\n",
    "    \n",
    "    # Replace \\n with <br>\n",
    "    email_body = email_body.replace('\\n', '<br>')\n",
    "\n",
    "    # Create Outlook email object\n",
    "    outlook = win32.Dispatch('outlook.application')\n",
    "    mail = outlook.CreateItem(0)\n",
    "\n",
    "    # Set recipient, CC, subject, and body of email\n",
    "    mail.To = row['Email Receiver']\n",
    "    mail.Subject = email_subject\n",
    "    mail.HTMLBody = email_body\n",
    "\n",
    "    # Check if there is a CC receiver and add it to the email if there is\n",
    "    if not pd.isna(row['Email CC']):\n",
    "        mail.CC = row['Email CC']\n",
    "\n",
    "    # Check if there is an attachment file and add it to the email\n",
    "    if not pd.isna(row['Attachment']):\n",
    "        attachment_path = os.path.join(attachments_folder, row['Attachment'])\n",
    "        # Add it\n",
    "        mail.Attachments.Add(attachment_path)\n",
    "    else:\n",
    "        pass\n",
    "    \n",
    "    # Display email using Outlook\n",
    "    mail.Display()\n",
    "    \n",
    "# Close Excel file\n",
    "excel_file.close()\n",
    "\n",
    "# Print success message\n",
    "print('All emails were successfully opened in Outlook!')"
   ]
  }
 ],
 "metadata": {
  "kernelspec": {
   "display_name": "bi_env",
   "language": "python",
   "name": "bi_env"
  },
  "language_info": {
   "codemirror_mode": {
    "name": "ipython",
    "version": 3
   },
   "file_extension": ".py",
   "mimetype": "text/x-python",
   "name": "python",
   "nbconvert_exporter": "python",
   "pygments_lexer": "ipython3",
   "version": "3.10.9"
  }
 },
 "nbformat": 4,
 "nbformat_minor": 5
}
